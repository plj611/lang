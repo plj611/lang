{
 "metadata": {
  "language_info": {
   "codemirror_mode": {
    "name": "ipython",
    "version": 3
   },
   "file_extension": ".py",
   "mimetype": "text/x-python",
   "name": "python",
   "nbconvert_exporter": "python",
   "pygments_lexer": "ipython3",
   "version": "3.8.2-final"
  },
  "orig_nbformat": 2,
  "kernelspec": {
   "name": "Python 3.8.2 64-bit",
   "display_name": "Python 3.8.2 64-bit",
   "metadata": {
    "interpreter": {
     "hash": "30d8466a7d43e01c225535e0a33da0579462acc3b98e0423acd2b0a77244d509"
    }
   }
  }
 },
 "nbformat": 4,
 "nbformat_minor": 2,
 "cells": [
  {
   "cell_type": "code",
   "execution_count": 4,
   "metadata": {},
   "outputs": [
    {
     "output_type": "stream",
     "name": "stdout",
     "text": [
      "Handle exception\n<class 'AttributeError'>\n'_io.TextIOWrapper' object has no attribute 'somefun'\n<traceback object at 0x000002B1D1895440>\nend\n"
     ]
    }
   ],
   "source": [
    "class file_open:\n",
    "    def __init__(self, name):\n",
    "        self.f = name\n",
    "    \n",
    "    def __enter__(self):\n",
    "        self.fh = open(self.f, 'w')\n",
    "        return self.fh\n",
    "\n",
    "    def __exit__(self, ext_type, ext_name, ext_traceback):\n",
    "        self.fh.close()\n",
    "        if ext_type is not None:\n",
    "            print('Handle exception')\n",
    "            print(ext_type)\n",
    "            print(ext_name)\n",
    "            print(ext_traceback)\n",
    "        return True\n",
    "\n",
    "    \n",
    "with file_open('aaa.txt') as f:\n",
    "    f.write('HiHi')\n",
    "    f.somefun()\n",
    "    print('after')\n",
    "\n",
    "print('end')"
   ]
  },
  {
   "cell_type": "code",
   "execution_count": null,
   "metadata": {},
   "outputs": [],
   "source": []
  }
 ]
}